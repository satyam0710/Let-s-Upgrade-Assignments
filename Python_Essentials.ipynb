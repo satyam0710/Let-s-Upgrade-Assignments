{
  "nbformat": 4,
  "nbformat_minor": 0,
  "metadata": {
    "colab": {
      "name": "Python Essentials.ipynb",
      "provenance": [],
      "authorship_tag": "ABX9TyMT3KRkanuSjk7HyAfpphXf",
      "include_colab_link": true
    },
    "kernelspec": {
      "name": "python3",
      "display_name": "Python 3"
    }
  },
  "cells": [
    {
      "cell_type": "markdown",
      "metadata": {
        "id": "view-in-github",
        "colab_type": "text"
      },
      "source": [
        "<a href=\"https://colab.research.google.com/github/satyam0710/Let-s-Upgrade-Assignments/blob/main/Python_Essentials.ipynb\" target=\"_parent\"><img src=\"https://colab.research.google.com/assets/colab-badge.svg\" alt=\"Open In Colab\"/></a>"
      ]
    },
    {
      "cell_type": "markdown",
      "metadata": {
        "id": "U2Mg_Ghr_dc9"
      },
      "source": [
        "**Python Essentials Day 1**"
      ]
    },
    {
      "cell_type": "code",
      "metadata": {
        "colab": {
          "base_uri": "https://localhost:8080/"
        },
        "id": "Su00mFYABy9A",
        "outputId": "2645d43f-27e3-41a0-b2a3-50c7e6759115"
      },
      "source": [
        "print(\"Hello\")"
      ],
      "execution_count": 1,
      "outputs": [
        {
          "output_type": "stream",
          "text": [
            "Hello\n"
          ],
          "name": "stdout"
        }
      ]
    },
    {
      "cell_type": "markdown",
      "metadata": {
        "id": "D9RmxNqJDhAj"
      },
      "source": [
        "Data Types:\r\n",
        "1. Integer\r\n",
        "2. String\r\n",
        "3. Char\r\n"
      ]
    },
    {
      "cell_type": "code",
      "metadata": {
        "colab": {
          "base_uri": "https://localhost:8080/"
        },
        "id": "D_GXZe89Dajf",
        "outputId": "5fe3f1a7-4df1-4b76-e9ae-afd54d38fb77"
      },
      "source": [
        "a=100\r\n",
        "print(a)\r\n",
        "print(type(a))\r\n"
      ],
      "execution_count": 5,
      "outputs": [
        {
          "output_type": "stream",
          "text": [
            "100\n",
            "<class 'int'>\n"
          ],
          "name": "stdout"
        }
      ]
    },
    {
      "cell_type": "code",
      "metadata": {
        "colab": {
          "base_uri": "https://localhost:8080/"
        },
        "id": "Xm61bWs0EK4o",
        "outputId": "b0d9b943-52c2-40d2-a466-6f52f6c22d12"
      },
      "source": [
        "print(a+a)\r\n"
      ],
      "execution_count": 6,
      "outputs": [
        {
          "output_type": "stream",
          "text": [
            "200\n"
          ],
          "name": "stdout"
        }
      ]
    },
    {
      "cell_type": "code",
      "metadata": {
        "colab": {
          "base_uri": "https://localhost:8080/"
        },
        "id": "B_DeqbzEEaK7",
        "outputId": "85175b74-6eeb-4966-db5c-e50fb8e5598e"
      },
      "source": [
        "#String\r\n",
        "st = \"HEy Guys Complete your COurse\"\r\n",
        "print(st)\r\n"
      ],
      "execution_count": 7,
      "outputs": [
        {
          "output_type": "stream",
          "text": [
            "HEy Guys Complete your COurse\n"
          ],
          "name": "stdout"
        }
      ]
    },
    {
      "cell_type": "code",
      "metadata": {
        "colab": {
          "base_uri": "https://localhost:8080/",
          "height": 35
        },
        "id": "eR1rWN1lEuSe",
        "outputId": "60dc5f55-34ba-4e8f-97ec-dbc5207e6834"
      },
      "source": [
        "st.capitalize()"
      ],
      "execution_count": 8,
      "outputs": [
        {
          "output_type": "execute_result",
          "data": {
            "application/vnd.google.colaboratory.intrinsic+json": {
              "type": "string"
            },
            "text/plain": [
              "'Hey guys complete your course'"
            ]
          },
          "metadata": {
            "tags": []
          },
          "execution_count": 8
        }
      ]
    },
    {
      "cell_type": "markdown",
      "metadata": {
        "id": "sNC8aczXFcae"
      },
      "source": [
        "**Python Essentials Day 2**"
      ]
    },
    {
      "cell_type": "markdown",
      "metadata": {
        "id": "JTHH6wzDF7nI"
      },
      "source": [
        "**Agenda**\r\n",
        "1. Data Types\r\n",
        "2. If else\r\n",
        "3. Loops\r\n"
      ]
    },
    {
      "cell_type": "code",
      "metadata": {
        "colab": {
          "base_uri": "https://localhost:8080/"
        },
        "id": "16gXB4zNE6OS",
        "outputId": "ec3cf367-e159-4e8e-8175-fcc68e6a724b"
      },
      "source": [
        "#List\r\n",
        "\r\n",
        "lst=[1,3,5,\"Sam\",4,43,['a','b'],89,54]\r\n",
        "lst[-1]"
      ],
      "execution_count": 19,
      "outputs": [
        {
          "output_type": "execute_result",
          "data": {
            "text/plain": [
              "54"
            ]
          },
          "metadata": {
            "tags": []
          },
          "execution_count": 19
        }
      ]
    },
    {
      "cell_type": "code",
      "metadata": {
        "colab": {
          "base_uri": "https://localhost:8080/",
          "height": 35
        },
        "id": "ZwhebSzPGjga",
        "outputId": "5fc79429-8aa7-48b3-eafe-e4c7ec6cb746"
      },
      "source": [
        "lst[3]"
      ],
      "execution_count": 20,
      "outputs": [
        {
          "output_type": "execute_result",
          "data": {
            "application/vnd.google.colaboratory.intrinsic+json": {
              "type": "string"
            },
            "text/plain": [
              "'Sam'"
            ]
          },
          "metadata": {
            "tags": []
          },
          "execution_count": 20
        }
      ]
    },
    {
      "cell_type": "code",
      "metadata": {
        "id": "7M3jy0vuHCgr"
      },
      "source": [
        "lst.append(777)"
      ],
      "execution_count": 23,
      "outputs": []
    },
    {
      "cell_type": "code",
      "metadata": {
        "colab": {
          "base_uri": "https://localhost:8080/"
        },
        "id": "d59NWGMZHMJH",
        "outputId": "0d7ef23b-85e9-4a2e-9341-be9210995365"
      },
      "source": [
        "print(lst)"
      ],
      "execution_count": 24,
      "outputs": [
        {
          "output_type": "stream",
          "text": [
            "[1, 3, 5, 'Sam', 4, 43, ['a', 'b'], 89, 54, '777', 777]\n"
          ],
          "name": "stdout"
        }
      ]
    },
    {
      "cell_type": "code",
      "metadata": {
        "id": "gJkISf-LHOl2"
      },
      "source": [
        "lst.insert(5,'Cloud')"
      ],
      "execution_count": 27,
      "outputs": []
    },
    {
      "cell_type": "code",
      "metadata": {
        "colab": {
          "base_uri": "https://localhost:8080/"
        },
        "id": "tZFjUTYeHbh9",
        "outputId": "9419f768-bfc1-45ee-ffbd-55e5a1bc4d3a"
      },
      "source": [
        "print(lst)"
      ],
      "execution_count": 28,
      "outputs": [
        {
          "output_type": "stream",
          "text": [
            "[1, 3, 5, 'Sam', 4, 'Cloud', 43, ['a', 'b'], 89, 54, '777', 777]\n"
          ],
          "name": "stdout"
        }
      ]
    },
    {
      "cell_type": "code",
      "metadata": {
        "colab": {
          "base_uri": "https://localhost:8080/",
          "height": 35
        },
        "id": "gJPiD2faHymT",
        "outputId": "0071a91c-17b3-48b6-abe1-c8f15374dc21"
      },
      "source": [
        "lst[7][1]"
      ],
      "execution_count": 29,
      "outputs": [
        {
          "output_type": "execute_result",
          "data": {
            "application/vnd.google.colaboratory.intrinsic+json": {
              "type": "string"
            },
            "text/plain": [
              "'b'"
            ]
          },
          "metadata": {
            "tags": []
          },
          "execution_count": 29
        }
      ]
    },
    {
      "cell_type": "code",
      "metadata": {
        "colab": {
          "base_uri": "https://localhost:8080/"
        },
        "id": "oh4EPJmRH8H0",
        "outputId": "14520f4b-9d2a-4022-c6ca-f8d184e3538e"
      },
      "source": [
        "#Dictionaries\r\n",
        "\r\n",
        "dict={\"Key\":100, \"Key1\":290}\r\n",
        "dict.get(\"Key1\")"
      ],
      "execution_count": 35,
      "outputs": [
        {
          "output_type": "execute_result",
          "data": {
            "text/plain": [
              "290"
            ]
          },
          "metadata": {
            "tags": []
          },
          "execution_count": 35
        }
      ]
    },
    {
      "cell_type": "code",
      "metadata": {
        "colab": {
          "base_uri": "https://localhost:8080/"
        },
        "id": "s-AxqJlQIfTg",
        "outputId": "fed29159-0e4d-48e7-f9cd-47f9ebe0d0de"
      },
      "source": [
        "dict['Key1']"
      ],
      "execution_count": 36,
      "outputs": [
        {
          "output_type": "execute_result",
          "data": {
            "text/plain": [
              "290"
            ]
          },
          "metadata": {
            "tags": []
          },
          "execution_count": 36
        }
      ]
    },
    {
      "cell_type": "code",
      "metadata": {
        "id": "vy5MoY0II06K"
      },
      "source": [
        "BioData= {\"Name\": \"Satyam\",\"Age\":21,\"Location\":\"Kolhapur\"}"
      ],
      "execution_count": 37,
      "outputs": []
    },
    {
      "cell_type": "code",
      "metadata": {
        "colab": {
          "base_uri": "https://localhost:8080/",
          "height": 35
        },
        "id": "sdHvgKHBJcS0",
        "outputId": "d111232a-25b0-4ad0-fc30-507b563afec7"
      },
      "source": [
        "BioData.get(\"Location\")"
      ],
      "execution_count": 40,
      "outputs": [
        {
          "output_type": "execute_result",
          "data": {
            "application/vnd.google.colaboratory.intrinsic+json": {
              "type": "string"
            },
            "text/plain": [
              "'Kolhapur'"
            ]
          },
          "metadata": {
            "tags": []
          },
          "execution_count": 40
        }
      ]
    },
    {
      "cell_type": "code",
      "metadata": {
        "colab": {
          "base_uri": "https://localhost:8080/"
        },
        "id": "cu8TJB2ZJiWl",
        "outputId": "dc67a792-4b01-4185-b394-51f5f9b489ec"
      },
      "source": [
        "BioData.keys()"
      ],
      "execution_count": 41,
      "outputs": [
        {
          "output_type": "execute_result",
          "data": {
            "text/plain": [
              "dict_keys(['Name', 'Age', 'Location'])"
            ]
          },
          "metadata": {
            "tags": []
          },
          "execution_count": 41
        }
      ]
    },
    {
      "cell_type": "code",
      "metadata": {
        "colab": {
          "base_uri": "https://localhost:8080/"
        },
        "id": "DXnDKxfZKCLA",
        "outputId": "ed26e918-322e-4c30-d59b-92e1f9fde96f"
      },
      "source": [
        "BioData.values()"
      ],
      "execution_count": 42,
      "outputs": [
        {
          "output_type": "execute_result",
          "data": {
            "text/plain": [
              "dict_values(['Satyam', 21, 'Kolhapur'])"
            ]
          },
          "metadata": {
            "tags": []
          },
          "execution_count": 42
        }
      ]
    },
    {
      "cell_type": "code",
      "metadata": {
        "colab": {
          "base_uri": "https://localhost:8080/"
        },
        "id": "HZ9ugvF7KJ-C",
        "outputId": "70014c54-fb45-4838-cf58-00d2c531777c"
      },
      "source": [
        "BioData"
      ],
      "execution_count": 44,
      "outputs": [
        {
          "output_type": "execute_result",
          "data": {
            "text/plain": [
              "{'Age': 21, 'Location': 'Kolhapur', 'Name': 'Satyam'}"
            ]
          },
          "metadata": {
            "tags": []
          },
          "execution_count": 44
        }
      ]
    },
    {
      "cell_type": "markdown",
      "metadata": {
        "id": "8OB0lOznKa6Z"
      },
      "source": [
        "#Assignment 1\r\n",
        "1. Experiment with 5 List's inbuilt functions , and post on GitHub \r\n",
        "\r\n",
        "#Assignment 2\r\n",
        "1.  Experiment with 5 Dictionaries's inbuilt functions , and post on GitHub \r\n",
        "\r\n",
        "\r\n",
        "\r\n"
      ]
    },
    {
      "cell_type": "markdown",
      "metadata": {
        "id": "_s5u9enlLB7Z"
      },
      "source": [
        "#**Sets**"
      ]
    },
    {
      "cell_type": "code",
      "metadata": {
        "id": "E8nB3L4OKRnK"
      },
      "source": [
        ""
      ],
      "execution_count": null,
      "outputs": []
    },
    {
      "cell_type": "code",
      "metadata": {
        "id": "zTStM1yFLFvW"
      },
      "source": [
        "st = {\"a\",\"b\",\"c\",\"c\",1,1,1,3,2,2,112,11,111,1,1,111}"
      ],
      "execution_count": 45,
      "outputs": []
    },
    {
      "cell_type": "code",
      "metadata": {
        "colab": {
          "base_uri": "https://localhost:8080/"
        },
        "id": "oD7DJ3w6LxBr",
        "outputId": "56c41a03-3c04-4006-998a-6417e05c7f2c"
      },
      "source": [
        "st"
      ],
      "execution_count": 46,
      "outputs": [
        {
          "output_type": "execute_result",
          "data": {
            "text/plain": [
              "{1, 11, 111, 112, 2, 3, 'a', 'b', 'c'}"
            ]
          },
          "metadata": {
            "tags": []
          },
          "execution_count": 46
        }
      ]
    },
    {
      "cell_type": "markdown",
      "metadata": {
        "id": "qpTVybJML18G"
      },
      "source": [
        "#**Tuple**"
      ]
    },
    {
      "cell_type": "code",
      "metadata": {
        "id": "bce_dZwDLzGx"
      },
      "source": [
        "tup = {\"Lets Go\"}"
      ],
      "execution_count": 47,
      "outputs": []
    },
    {
      "cell_type": "code",
      "metadata": {
        "colab": {
          "base_uri": "https://localhost:8080/"
        },
        "id": "uuJAa6a_MbZL",
        "outputId": "ec52ac79-4deb-4734-a958-abfa9b4d6c14"
      },
      "source": [
        "tup"
      ],
      "execution_count": 48,
      "outputs": [
        {
          "output_type": "execute_result",
          "data": {
            "text/plain": [
              "{'Lets Go'}"
            ]
          },
          "metadata": {
            "tags": []
          },
          "execution_count": 48
        }
      ]
    },
    {
      "cell_type": "code",
      "metadata": {
        "id": "rBQlaB3hMcrH"
      },
      "source": [
        "del tup"
      ],
      "execution_count": 50,
      "outputs": []
    },
    {
      "cell_type": "code",
      "metadata": {
        "id": "4xXeeeRcMg8U"
      },
      "source": [
        "tup = (\"1\",\"dasd\",\"HEllo\")"
      ],
      "execution_count": 59,
      "outputs": []
    },
    {
      "cell_type": "code",
      "metadata": {
        "colab": {
          "base_uri": "https://localhost:8080/"
        },
        "id": "va1b2CcTMnNn",
        "outputId": "3f752d97-192f-4ccd-a615-a184c0deb0c8"
      },
      "source": [
        "tup"
      ],
      "execution_count": 60,
      "outputs": [
        {
          "output_type": "execute_result",
          "data": {
            "text/plain": [
              "('1', 'dasd', 'HEllo')"
            ]
          },
          "metadata": {
            "tags": []
          },
          "execution_count": 60
        }
      ]
    },
    {
      "cell_type": "code",
      "metadata": {
        "colab": {
          "base_uri": "https://localhost:8080/"
        },
        "id": "MqbSvtx0M2uK",
        "outputId": "24679b38-93c3-4b34-a76c-03dd105079ef"
      },
      "source": [
        "tup"
      ],
      "execution_count": 62,
      "outputs": [
        {
          "output_type": "execute_result",
          "data": {
            "text/plain": [
              "('1', 'dasd', 'HEllo')"
            ]
          },
          "metadata": {
            "tags": []
          },
          "execution_count": 62
        }
      ]
    },
    {
      "cell_type": "markdown",
      "metadata": {
        "id": "WVMqeXuITsBi"
      },
      "source": [
        "**Python Essentials Day 3**"
      ]
    },
    {
      "cell_type": "markdown",
      "metadata": {
        "id": "lbdujPuiT4KY"
      },
      "source": [
        "1. Comparison Statements: Compare two or more object with different Relations\r\n",
        "1. If ELif else\r\n",
        "2. For Loop\r\n",
        "3. While Loop\r\n",
        "4. While else Loop\r\n",
        "5. Breal, Contionue, Pass\r\n",
        "6. GitHub"
      ]
    },
    {
      "cell_type": "code",
      "metadata": {
        "id": "oheWCND4M4Gv"
      },
      "source": [
        "a=10\r\n",
        "b=12\r\n",
        "#equal to\r\n",
        "# =="
      ],
      "execution_count": 63,
      "outputs": []
    },
    {
      "cell_type": "code",
      "metadata": {
        "colab": {
          "base_uri": "https://localhost:8080/"
        },
        "id": "RLqdFBW6U26n",
        "outputId": "a1ac4860-787c-41b7-eb07-1f82840b26fb"
      },
      "source": [
        "a==b"
      ],
      "execution_count": 64,
      "outputs": [
        {
          "output_type": "execute_result",
          "data": {
            "text/plain": [
              "False"
            ]
          },
          "metadata": {
            "tags": []
          },
          "execution_count": 64
        }
      ]
    },
    {
      "cell_type": "code",
      "metadata": {
        "colab": {
          "base_uri": "https://localhost:8080/"
        },
        "id": "Oy2V3gbWU56h",
        "outputId": "0108eb98-e97f-4239-9c53-e7eadc183dfa"
      },
      "source": [
        "#Not equal to \r\n",
        "a!=b"
      ],
      "execution_count": 65,
      "outputs": [
        {
          "output_type": "execute_result",
          "data": {
            "text/plain": [
              "True"
            ]
          },
          "metadata": {
            "tags": []
          },
          "execution_count": 65
        }
      ]
    },
    {
      "cell_type": "code",
      "metadata": {
        "colab": {
          "base_uri": "https://localhost:8080/"
        },
        "id": "2cY15XRGVJiw",
        "outputId": "cdba126c-a6ee-48ad-993d-6a66eaba352a"
      },
      "source": [
        "#greater than\r\n",
        "a>b"
      ],
      "execution_count": 66,
      "outputs": [
        {
          "output_type": "execute_result",
          "data": {
            "text/plain": [
              "False"
            ]
          },
          "metadata": {
            "tags": []
          },
          "execution_count": 66
        }
      ]
    },
    {
      "cell_type": "code",
      "metadata": {
        "colab": {
          "base_uri": "https://localhost:8080/"
        },
        "id": "t1mfN2MyVVcU",
        "outputId": "21730e49-0c10-4f05-d682-53acad5a2f3f"
      },
      "source": [
        "#less than\r\n",
        "a<b"
      ],
      "execution_count": 67,
      "outputs": [
        {
          "output_type": "execute_result",
          "data": {
            "text/plain": [
              "True"
            ]
          },
          "metadata": {
            "tags": []
          },
          "execution_count": 67
        }
      ]
    },
    {
      "cell_type": "code",
      "metadata": {
        "colab": {
          "base_uri": "https://localhost:8080/"
        },
        "id": "kGVETqCNVY2E",
        "outputId": "72f76b5b-ce39-4af1-d314-28fa42f56b1f"
      },
      "source": [
        "#greater than equal to\r\n",
        "a>=b"
      ],
      "execution_count": 68,
      "outputs": [
        {
          "output_type": "execute_result",
          "data": {
            "text/plain": [
              "False"
            ]
          },
          "metadata": {
            "tags": []
          },
          "execution_count": 68
        }
      ]
    },
    {
      "cell_type": "markdown",
      "metadata": {
        "id": "-XMYP8GfVhBT"
      },
      "source": [
        "**Logical Comparison Operator** : Clubing two or more comparison together\r\n",
        "\r\n",
        "1. And \r\n",
        "2. Or \r\n",
        "3. Not"
      ]
    },
    {
      "cell_type": "code",
      "metadata": {
        "colab": {
          "base_uri": "https://localhost:8080/"
        },
        "id": "0qMvxP0CVeCZ",
        "outputId": "fbf9be21-7f34-4080-c53f-0db33f15fb6e"
      },
      "source": [
        "c=9\r\n",
        "a,b,c"
      ],
      "execution_count": 70,
      "outputs": [
        {
          "output_type": "execute_result",
          "data": {
            "text/plain": [
              "(10, 12, 9)"
            ]
          },
          "metadata": {
            "tags": []
          },
          "execution_count": 70
        }
      ]
    },
    {
      "cell_type": "code",
      "metadata": {
        "colab": {
          "base_uri": "https://localhost:8080/"
        },
        "id": "l9Beoax-WHvI",
        "outputId": "1287657a-50bf-45c1-fa84-6cef472f0b1c"
      },
      "source": [
        "#AND\r\n",
        "a>b and a<b"
      ],
      "execution_count": 71,
      "outputs": [
        {
          "output_type": "execute_result",
          "data": {
            "text/plain": [
              "False"
            ]
          },
          "metadata": {
            "tags": []
          },
          "execution_count": 71
        }
      ]
    },
    {
      "cell_type": "code",
      "metadata": {
        "colab": {
          "base_uri": "https://localhost:8080/"
        },
        "id": "EDuzSlolWXwK",
        "outputId": "6d5b53ab-d7dd-43da-a199-97b652ab5954"
      },
      "source": [
        "b>a and c<b"
      ],
      "execution_count": 72,
      "outputs": [
        {
          "output_type": "execute_result",
          "data": {
            "text/plain": [
              "True"
            ]
          },
          "metadata": {
            "tags": []
          },
          "execution_count": 72
        }
      ]
    },
    {
      "cell_type": "code",
      "metadata": {
        "colab": {
          "base_uri": "https://localhost:8080/"
        },
        "id": "bAhflwz8Wi7K",
        "outputId": "9e5c2f2b-9397-4b63-a0fa-7d6885347bb4"
      },
      "source": [
        "#OR\r\n",
        "b>a or c<b"
      ],
      "execution_count": 73,
      "outputs": [
        {
          "output_type": "execute_result",
          "data": {
            "text/plain": [
              "True"
            ]
          },
          "metadata": {
            "tags": []
          },
          "execution_count": 73
        }
      ]
    },
    {
      "cell_type": "code",
      "metadata": {
        "colab": {
          "base_uri": "https://localhost:8080/"
        },
        "id": "XJz37LOPWrBx",
        "outputId": "7a997e90-eae5-43b9-debb-8b552ab00764"
      },
      "source": [
        "a<b and a>c"
      ],
      "execution_count": 79,
      "outputs": [
        {
          "output_type": "execute_result",
          "data": {
            "text/plain": [
              "True"
            ]
          },
          "metadata": {
            "tags": []
          },
          "execution_count": 79
        }
      ]
    },
    {
      "cell_type": "code",
      "metadata": {
        "colab": {
          "base_uri": "https://localhost:8080/"
        },
        "id": "eIZej_jeW6y0",
        "outputId": "c988cec8-aa46-483f-8289-41dbbbf3f48b"
      },
      "source": [
        "#NOT\r\n",
        "not a>b"
      ],
      "execution_count": 81,
      "outputs": [
        {
          "output_type": "execute_result",
          "data": {
            "text/plain": [
              "True"
            ]
          },
          "metadata": {
            "tags": []
          },
          "execution_count": 81
        }
      ]
    },
    {
      "cell_type": "markdown",
      "metadata": {
        "id": "GqtxngqpYLXz"
      },
      "source": [
        "**If else elif** "
      ]
    },
    {
      "cell_type": "code",
      "metadata": {
        "colab": {
          "base_uri": "https://localhost:8080/"
        },
        "id": "G5mqltaQX9ej",
        "outputId": "a266c24f-2c99-416a-9ced-3fd45dfe7cfb"
      },
      "source": [
        "if a>b:\r\n",
        "  print('A is Greater')\r\n",
        "else:\r\n",
        "  print('B is Greater')    \r\n"
      ],
      "execution_count": 83,
      "outputs": [
        {
          "output_type": "stream",
          "text": [
            "B is Greater\n"
          ],
          "name": "stdout"
        }
      ]
    },
    {
      "cell_type": "markdown",
      "metadata": {
        "id": "wZevPbHIbXbE"
      },
      "source": [
        "**Loops: Performing same activity n no. of times**"
      ]
    },
    {
      "cell_type": "code",
      "metadata": {
        "id": "LrVxzGNRbhES"
      },
      "source": [
        "#For Loop\r\n",
        "#While Loop"
      ],
      "execution_count": null,
      "outputs": []
    },
    {
      "cell_type": "code",
      "metadata": {
        "colab": {
          "base_uri": "https://localhost:8080/"
        },
        "id": "yrbPCta4ZEU5",
        "outputId": "a64fad28-8524-460b-c774-210c6192d00f"
      },
      "source": [
        "lst = [1,2,3,4,5,6,7]\r\n",
        "type(lst)"
      ],
      "execution_count": 84,
      "outputs": [
        {
          "output_type": "execute_result",
          "data": {
            "text/plain": [
              "list"
            ]
          },
          "metadata": {
            "tags": []
          },
          "execution_count": 84
        }
      ]
    },
    {
      "cell_type": "code",
      "metadata": {
        "colab": {
          "base_uri": "https://localhost:8080/"
        },
        "id": "uZAKL4KVb6Gu",
        "outputId": "a74fe6a9-2abc-41b8-f8a9-7e570d87a00b"
      },
      "source": [
        "for x in lst:\r\n",
        "  print(x)"
      ],
      "execution_count": 85,
      "outputs": [
        {
          "output_type": "stream",
          "text": [
            "1\n",
            "2\n",
            "3\n",
            "4\n",
            "5\n",
            "6\n",
            "7\n"
          ],
          "name": "stdout"
        }
      ]
    },
    {
      "cell_type": "code",
      "metadata": {
        "colab": {
          "base_uri": "https://localhost:8080/"
        },
        "id": "v_Lfgr6wcB1X",
        "outputId": "b087d9d3-ac56-4c69-8eb6-6a765142d841"
      },
      "source": [
        "for item in range(0,10):\r\n",
        "  print(item)\r\n",
        "else:\r\n",
        "  print('List is over')  "
      ],
      "execution_count": 88,
      "outputs": [
        {
          "output_type": "stream",
          "text": [
            "0\n",
            "1\n",
            "2\n",
            "3\n",
            "4\n",
            "5\n",
            "6\n",
            "7\n",
            "8\n",
            "9\n",
            "List is over\n"
          ],
          "name": "stdout"
        }
      ]
    },
    {
      "cell_type": "code",
      "metadata": {
        "colab": {
          "base_uri": "https://localhost:8080/"
        },
        "id": "wjgzCQD5dAni",
        "outputId": "488558e4-1e90-4c79-be67-6b6d2974be34"
      },
      "source": [
        "# While\r\n",
        "i=0\r\n",
        "while i<10:\r\n",
        "  print(i)\r\n",
        "  i = i + 1\r\n",
        "print(\"Done\")  \r\n"
      ],
      "execution_count": 92,
      "outputs": [
        {
          "output_type": "stream",
          "text": [
            "0\n",
            "1\n",
            "2\n",
            "3\n",
            "4\n",
            "5\n",
            "6\n",
            "7\n",
            "8\n",
            "9\n",
            "Done\n"
          ],
          "name": "stdout"
        }
      ]
    },
    {
      "cell_type": "code",
      "metadata": {
        "id": "dG7gQIpheMa2"
      },
      "source": [
        "choice = 'y'\r\n",
        "while choice == 'y':\r\n",
        "  print('I will help')\r\n",
        "  choice = input('Faculty is Seeing:')  \r\n",
        "else:\r\n",
        "  print(\"STOP\")  "
      ],
      "execution_count": null,
      "outputs": []
    },
    {
      "cell_type": "markdown",
      "metadata": {
        "id": "log6xwFqsU8E"
      },
      "source": [
        "**Python Essentials Day 4**"
      ]
    },
    {
      "cell_type": "markdown",
      "metadata": {
        "id": "3fG6YAtYseK4"
      },
      "source": [
        "Agenda:\r\n",
        "1. Break, Continue, Pass\r\n",
        "2. Function\r\n",
        "2. GitHub\r\n"
      ]
    },
    {
      "cell_type": "code",
      "metadata": {
        "id": "zXOzi8C-sHHZ"
      },
      "source": [
        "for item in range(100):\r\n",
        "  print(\"Speed 50KMPH\",item)\r\n",
        "  if item>30:\r\n",
        "    break\r\n"
      ],
      "execution_count": null,
      "outputs": []
    },
    {
      "cell_type": "code",
      "metadata": {
        "id": "QwS7VI3_t63-"
      },
      "source": [
        "#Continue\r\n",
        "for meter in range(20):\r\n",
        "  if item == 10:\r\n",
        "    continue\r\n",
        "  print(\"Slow Down\",meter)\r\n",
        "  "
      ],
      "execution_count": null,
      "outputs": []
    },
    {
      "cell_type": "code",
      "metadata": {
        "id": "vfkHO9thwCCH"
      },
      "source": [
        "#Pass\r\n",
        "for item in range(1,100):\r\n",
        "  pass\r\n",
        "  "
      ],
      "execution_count": 114,
      "outputs": []
    },
    {
      "cell_type": "code",
      "metadata": {
        "id": "NLeNFguhwkjH"
      },
      "source": [
        "#Functions\r\n",
        "def tables(num):\r\n",
        "  for item in range(1,11):\r\n",
        "    print(num,'x',item,'=',num*item)\r\n"
      ],
      "execution_count": 115,
      "outputs": []
    },
    {
      "cell_type": "code",
      "metadata": {
        "colab": {
          "base_uri": "https://localhost:8080/"
        },
        "id": "8VMEg8XAzWHK",
        "outputId": "77e5d2be-98b6-47b5-8056-e5d6db27197b"
      },
      "source": [
        "tables(5)"
      ],
      "execution_count": 116,
      "outputs": [
        {
          "output_type": "stream",
          "text": [
            "5 x 1 = 5\n",
            "5 x 2 = 10\n",
            "5 x 3 = 15\n",
            "5 x 4 = 20\n",
            "5 x 5 = 25\n",
            "5 x 6 = 30\n",
            "5 x 7 = 35\n",
            "5 x 8 = 40\n",
            "5 x 9 = 45\n",
            "5 x 10 = 50\n"
          ],
          "name": "stdout"
        }
      ]
    },
    {
      "cell_type": "code",
      "metadata": {
        "id": "IWMXjVLZzZ-O"
      },
      "source": [
        "#Get Power 5 of Number\r\n",
        "\r\n",
        "\r\n",
        "def powerFive(num):\r\n",
        "  return num**5\r\n",
        "\r\n"
      ],
      "execution_count": 120,
      "outputs": []
    },
    {
      "cell_type": "code",
      "metadata": {
        "colab": {
          "base_uri": "https://localhost:8080/"
        },
        "id": "sE9oUonu0LBo",
        "outputId": "420f7b3e-c4e5-4e09-ba60-11c190df2117"
      },
      "source": [
        "print(powerFive(3))"
      ],
      "execution_count": 121,
      "outputs": [
        {
          "output_type": "stream",
          "text": [
            "243\n"
          ],
          "name": "stdout"
        }
      ]
    },
    {
      "cell_type": "markdown",
      "metadata": {
        "id": "C47_4S_U0gJX"
      },
      "source": [
        "#GitHub\r\n",
        "\r\n",
        "1. What is a get\r\n",
        "2. Where we use it?\r\n",
        "3. Why the hell Github was mde?\r\n",
        "4. How to use it?\r\n"
      ]
    },
    {
      "cell_type": "code",
      "metadata": {
        "id": "CrccTRoR0OOT"
      },
      "source": [
        ""
      ],
      "execution_count": null,
      "outputs": []
    }
  ]
}